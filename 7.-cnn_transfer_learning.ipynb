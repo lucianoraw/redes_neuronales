{
  "cells": [
    {
      "cell_type": "markdown",
      "metadata": {
        "colab_type": "text",
        "id": "view-in-github"
      },
      "source": [
        "<a href=\"https://colab.research.google.com/github/sherna90/inteligencia_artificial/blob/master/7.-cnn_transfer_learning.ipynb\" target=\"_parent\"><img src=\"https://colab.research.google.com/assets/colab-badge.svg\" alt=\"Open In Colab\"/></a>"
      ]
    },
    {
      "cell_type": "markdown",
      "metadata": {
        "id": "77gENRVX40S7"
      },
      "source": [
        "##### Copyright 2019 The TensorFlow Authors."
      ]
    },
    {
      "cell_type": "code",
      "execution_count": null,
      "metadata": {
        "execution": {
          "iopub.execute_input": "2023-10-27T06:20:25.905561Z",
          "iopub.status.busy": "2023-10-27T06:20:25.905082Z",
          "iopub.status.idle": "2023-10-27T06:20:25.908690Z",
          "shell.execute_reply": "2023-10-27T06:20:25.908036Z"
        },
        "id": "aPxHdjwW5P2j"
      },
      "outputs": [],
      "source": [
        "#@title MIT License\n",
        "#\n",
        "# Copyright (c) 2017 François Chollet                                                                                                                    # IGNORE_COPYRIGHT: cleared by OSS licensing\n",
        "#\n",
        "# Permission is hereby granted, free of charge, to any person obtaining a\n",
        "# copy of this software and associated documentation files (the \"Software\"),\n",
        "# to deal in the Software without restriction, including without limitation\n",
        "# the rights to use, copy, modify, merge, publish, distribute, sublicense,\n",
        "# and/or sell copies of the Software, and to permit persons to whom the\n",
        "# Software is furnished to do so, subject to the following conditions:\n",
        "#\n",
        "# The above copyright notice and this permission notice shall be included in\n",
        "# all copies or substantial portions of the Software.\n",
        "#\n",
        "# THE SOFTWARE IS PROVIDED \"AS IS\", WITHOUT WARRANTY OF ANY KIND, EXPRESS OR\n",
        "# IMPLIED, INCLUDING BUT NOT LIMITED TO THE WARRANTIES OF MERCHANTABILITY,\n",
        "# FITNESS FOR A PARTICULAR PURPOSE AND NONINFRINGEMENT. IN NO EVENT SHALL\n",
        "# THE AUTHORS OR COPYRIGHT HOLDERS BE LIABLE FOR ANY CLAIM, DAMAGES OR OTHER\n",
        "# LIABILITY, WHETHER IN AN ACTION OF CONTRACT, TORT OR OTHERWISE, ARISING\n",
        "# FROM, OUT OF OR IN CONNECTION WITH THE SOFTWARE OR THE USE OR OTHER\n",
        "# DEALINGS IN THE SOFTWARE."
      ]
    },
    {
      "cell_type": "markdown",
      "metadata": {
        "id": "hRTa3Ee15WsJ"
      },
      "source": [
        "# Transfer learning and fine-tuning"
      ]
    },
    {
      "cell_type": "markdown",
      "metadata": {
        "id": "2X4KyhORdSeO"
      },
      "source": [
        "In this tutorial, you will learn how to classify images of cats and dogs by using transfer learning from a pre-trained network.\n",
        "\n",
        "A pre-trained model is a saved network that was previously trained on a large dataset, typically on a large-scale image-classification task. You either use the pretrained model as is or use transfer learning to customize this model to a given task.\n",
        "\n",
        "The intuition behind transfer learning for image classification is that if a model is trained on a large and general enough dataset, this model will effectively serve as a generic model of the visual world. You can then take advantage of these learned feature maps without having to start from scratch by training a large model on a large dataset.\n",
        "\n",
        "In this notebook, you will try two ways to customize a pretrained model:\n",
        "\n",
        "1. Feature Extraction: Use the representations learned by a previous network to extract meaningful features from new samples. You simply add a new classifier, which will be trained from scratch, on top of the pretrained model so that you can repurpose the feature maps learned previously for the dataset.\n",
        "\n",
        " You do not need to (re)train the entire model. The base convolutional network already contains features that are generically useful for classifying pictures. However, the final, classification part of the pretrained model is specific to the original classification task, and subsequently specific to the set of classes on which the model was trained.\n",
        "\n",
        "1. Fine-Tuning: Unfreeze a few of the top layers of a frozen model base and jointly train both the newly-added classifier layers and the last layers of the base model. This allows us to \"fine-tune\" the higher-order feature representations in the base model in order to make them more relevant for the specific task.\n",
        "\n",
        "You will follow the general machine learning workflow.\n",
        "\n",
        "1. Examine and understand the data\n",
        "1. Build an input pipeline, in this case using Keras ImageDataGenerator\n",
        "1. Compose the model\n",
        "   * Load in the pretrained base model (and pretrained weights)\n",
        "   * Stack the classification layers on top\n",
        "1. Train the model\n",
        "1. Evaluate model\n"
      ]
    },
    {
      "cell_type": "code",
      "execution_count": null,
      "metadata": {
        "execution": {
          "iopub.execute_input": "2023-10-27T06:20:25.912144Z",
          "iopub.status.busy": "2023-10-27T06:20:25.911675Z",
          "iopub.status.idle": "2023-10-27T06:20:28.516843Z",
          "shell.execute_reply": "2023-10-27T06:20:28.516151Z"
        },
        "id": "TqOt6Sv7AsMi"
      },
      "outputs": [],
      "source": [
        "import matplotlib.pyplot as plt\n",
        "import numpy as np\n",
        "import os"
      ]
    },
    {
      "cell_type": "markdown",
      "metadata": {
        "id": "v77rlkCKW0IJ"
      },
      "source": [
        "## Data preprocessing"
      ]
    },
    {
      "cell_type": "markdown",
      "metadata": {
        "id": "0GoKGm1duzgk"
      },
      "source": [
        "### Data download"
      ]
    },
    {
      "cell_type": "markdown",
      "metadata": {
        "id": "vHP9qMJxt2oz"
      },
      "source": [
        "In this tutorial, you will use a dataset containing several thousand images of cats and dogs. Download and extract a zip file containing the images, then create a `tf.data.Dataset` for training and validation using the `tf.keras.utils.image_dataset_from_directory` utility. You can learn more about loading images in this [tutorial](https://www.tensorflow.org/tutorials/load_data/images)."
      ]
    },
    {
      "cell_type": "code",
      "execution_count": null,
      "metadata": {
        "execution": {
          "iopub.execute_input": "2023-10-27T06:20:28.521737Z",
          "iopub.status.busy": "2023-10-27T06:20:28.520994Z",
          "iopub.status.idle": "2023-10-27T06:20:32.908007Z",
          "shell.execute_reply": "2023-10-27T06:20:32.907251Z"
        },
        "id": "ro4oYaEmxe4r"
      },
      "outputs": [],
      "source": [
        "import os\n",
        "import tensorflow as tf\n",
        "from tensorflow.keras.preprocessing.image import ImageDataGenerator\n",
        "\n",
        "# Ruta al directorio principal que contiene subdirectorios para cada raza de perro\n",
        "dataset_path = 'D:/Users/Asus/Desktop/informeia/datasets/images/Images'\n",
        "\n",
        "# Rutas para el directorio de entrenamiento y el directorio de validación\n",
        "train_dir = os.path.join(dataset_path, 'train')\n",
        "validation_dir = os.path.join(dataset_path, 'validation')\n",
        "\n",
        "# Tamaño de las imágenes y tamaño del lote\n",
        "image_size = (100, 100)\n",
        "batch_size = 16\n",
        "\n",
        "# Configuración del generador de imágenes para preprocesamiento\n",
        "train_datagen = ImageDataGenerator(rescale=1./255,\n",
        "                                   rotation_range=20,\n",
        "                                   width_shift_range=0.2,\n",
        "                                   height_shift_range=0.2,\n",
        "                                   shear_range=0.2,\n",
        "                                   zoom_range=0.2,\n",
        "                                   horizontal_flip=True,\n",
        "                                   fill_mode='nearest')\n",
        "\n",
        "# Generador de datos para el conjunto de entrenamiento\n",
        "train_dataset = train_datagen.flow_from_directory(\n",
        "    train_dir,\n",
        "    target_size=image_size,\n",
        "    batch_size=batch_size,\n",
        "    classes=['n02088364-beagle', 'n02099601-golden_retriever'],\n",
        "    class_mode='categorical',\n",
        "    shuffle=True\n",
        ")\n",
        "\n",
        "# Configuración del generador de imágenes para preprocesamiento en validación (sin aumentos)\n",
        "validation_datagen = ImageDataGenerator(rescale=1./255)\n",
        "\n",
        "# Generador de datos para el conjunto de validación\n",
        "validation_dataset = validation_datagen.flow_from_directory(\n",
        "    validation_dir,\n",
        "    target_size=image_size,\n",
        "    batch_size=batch_size,\n",
        "    classes=['n02088364-beagle', 'n02099601-golden_retriever'],\n",
        "    class_mode='categorical',\n",
        "    shuffle=False\n",
        ")\n",
        "\n",
        "# Visualizar información de los generadores\n",
        "print(train_dataset.class_indices)\n",
        "print(train_dataset.filenames)\n"
      ]
    },
    {
      "cell_type": "code",
      "execution_count": null,
      "metadata": {
        "execution": {
          "iopub.execute_input": "2023-10-27T06:20:32.912005Z",
          "iopub.status.busy": "2023-10-27T06:20:32.911580Z",
          "iopub.status.idle": "2023-10-27T06:20:32.979955Z",
          "shell.execute_reply": "2023-10-27T06:20:32.979342Z"
        },
        "id": "cAvtLwi7_J__"
      },
      "outputs": [],
      "source": [
        "#validation_dataset = tf.keras.utils.image_dataset_from_directory(validation_dir,\n",
        "#                                                                 shuffle=True,\n",
        "#                                                                 batch_size=BATCH_SIZE,\n",
        "#                                                                 image_size=IMG_SIZE)"
      ]
    },
    {
      "cell_type": "markdown",
      "metadata": {
        "id": "yO1Q2JaW5sIy"
      },
      "source": [
        "Show the first nine images and labels from the training set:"
      ]
    },
    {
      "cell_type": "code",
      "execution_count": null,
      "metadata": {
        "execution": {
          "iopub.execute_input": "2023-10-27T06:20:32.983580Z",
          "iopub.status.busy": "2023-10-27T06:20:32.982941Z",
          "iopub.status.idle": "2023-10-27T06:20:33.965642Z",
          "shell.execute_reply": "2023-10-27T06:20:33.964851Z"
        },
        "id": "K5BeQyKThC_Y"
      },
      "outputs": [],
      "source": [
        "import matplotlib.pyplot as plt\n",
        "\n",
        "# Obtén los nombres de las clases\n",
        "class_names = list(train_dataset.class_indices.keys())\n",
        "\n",
        "# Crea una nueva figura de tamaño 10x10 pulgadas\n",
        "plt.figure(figsize=(10, 10))\n",
        "\n",
        "# Obtén las imágenes y etiquetas del conjunto de entrenamiento\n",
        "images, labels = next(train_dataset)\n",
        "\n",
        "# Itera sobre las primeras 9 imágenes del lote\n",
        "for i in range(9):\n",
        "    # Crea un subgráfico en una cuadrícula de 3x3\n",
        "    ax = plt.subplot(3, 3, i + 1)\n",
        "    \n",
        "    # Muestra la forma de la imagen\n",
        "    print(\"Shape of the image:\", images[i].shape)\n",
        "    \n",
        "    # Convierte la imagen a un array NumPy y ajusta el tipo de datos\n",
        "    image_to_show = (images[i] * 255).astype(\"uint8\")\n",
        "    \n",
        "    # Muestra la imagen\n",
        "    plt.imshow(image_to_show)\n",
        "\n",
        "    # Establece el título del subgráfico como el nombre de la clase\n",
        "    plt.title(class_names[tf.argmax(labels[i]).numpy()])\n",
        "\n",
        "    # Desactiva los ejes para una presentación más limpia\n",
        "    plt.axis(\"off\")\n",
        "\n",
        "# Muestra la figura\n",
        "plt.show()\n",
        "\n"
      ]
    },
    {
      "cell_type": "code",
      "execution_count": null,
      "metadata": {
        "id": "OL8KmCvb0wLu"
      },
      "outputs": [],
      "source": [
        "import tensorflow as tf\n",
        "\n",
        "# Tamaño del lote\n",
        "batch_size = 16\n",
        "\n",
        "# Obtén un generador de imágenes para el conjunto de datos de entrenamiento\n",
        "train_generator = train_datagen.flow_from_directory(\n",
        "    train_dir,\n",
        "    target_size=image_size,\n",
        "    batch_size=batch_size,\n",
        "    class_mode='categorical'  # Puedes ajustar esto según tus necesidades\n",
        ")\n",
        "\n",
        "# Inicializa una lista para almacenar los lotes\n",
        "ds_train_batches = []\n",
        "\n",
        "# Carga el conjunto de datos por lotes\n",
        "for _ in range(len(train_generator)):\n",
        "    batch = next(train_generator)\n",
        "    ds_train_batches.append(batch)\n",
        "\n",
        "# Ahora, ds_train_batches es una lista que contiene todos los lotes del conjunto de datos de entrenamiento\n"
      ]
    },
    {
      "cell_type": "code",
      "execution_count": null,
      "metadata": {
        "id": "hARUzGhS1H-k"
      },
      "outputs": [],
      "source": [
        "# Dividir el conjunto de datos en entrenamiento y validación\n",
        "train_size = int(0.8 * len(ds_train_batches))\n",
        "val_size = len(ds_train_batches) - train_size\n",
        "\n",
        "# Conjunto de datos de entrenamiento\n",
        "ds_train = ds_train_batches[:train_size]\n",
        "\n",
        "# Conjunto de datos de validación\n",
        "ds_val = ds_train_batches[train_size:]\n"
      ]
    },
    {
      "cell_type": "code",
      "execution_count": null,
      "metadata": {
        "id": "HUsoJSMb1yZB"
      },
      "outputs": [],
      "source": [
        "# Supongamos que tienes un generador de imágenes como train_generator\n",
        "# y que las etiquetas están en el formato (imagenes, etiquetas)\n",
        "\n",
        "# Obtener un batch de imágenes y etiquetas\n",
        "images, labels = next(train_generator)\n",
        "\n",
        "# Asegurarse de que las etiquetas sean un array NumPy unidimensional de enteros\n",
        "labels = np.array(labels).flatten().astype(int)\n",
        "\n",
        "# Calcular la cantidad de ejemplos positivos y negativos\n",
        "neg, pos = np.bincount(labels)\n",
        "\n",
        "# Calcular el total de ejemplos\n",
        "total = neg + pos\n",
        "\n",
        "# Imprimir información sobre la distribución de clases\n",
        "print('Examples:\\n    Total: {}\\n    Positive: {} ({:.2f}% of total)\\n'.format(\n",
        "    total, pos, 100 * pos / total))\n"
      ]
    },
    {
      "attachments": {},
      "cell_type": "markdown",
      "metadata": {
        "id": "EZqCX_mpV3Mx"
      },
      "source": [
        "As the original dataset doesn't contain a test set, you will create one. To do so, determine how many batches of data are available in the validation set using `tf.data.experimental.cardinality`, then move 20% of them to a test set."
      ]
    },
    {
      "cell_type": "code",
      "execution_count": null,
      "metadata": {
        "execution": {
          "iopub.execute_input": "2023-10-27T06:20:33.979709Z",
          "iopub.status.busy": "2023-10-27T06:20:33.979411Z",
          "iopub.status.idle": "2023-10-27T06:20:33.989106Z",
          "shell.execute_reply": "2023-10-27T06:20:33.988369Z"
        },
        "id": "uFFIYrTFV9RO"
      },
      "outputs": [],
      "source": [
        "# Obtener la cantidad de lotes en el conjunto de validación\n",
        "val_batches = len(ds_val)\n",
        "\n",
        "# Calcular cuántos lotes corresponden al 20% para el conjunto de prueba\n",
        "test_batches = val_batches // 5\n",
        "\n",
        "# Crear el conjunto de datos de prueba tomando el 20% de los lotes del conjunto de validación\n",
        "ds_test = ds_val[:test_batches]\n",
        "\n",
        "# Actualizar el conjunto de validación para excluir los lotes utilizados para prueba\n",
        "ds_val = ds_val[test_batches:]\n",
        "\n",
        "print(len(ds_val))"
      ]
    },
    {
      "cell_type": "code",
      "execution_count": null,
      "metadata": {
        "execution": {
          "iopub.execute_input": "2023-10-27T06:20:33.992687Z",
          "iopub.status.busy": "2023-10-27T06:20:33.992029Z",
          "iopub.status.idle": "2023-10-27T06:20:33.996689Z",
          "shell.execute_reply": "2023-10-27T06:20:33.995957Z"
        },
        "id": "Q9pFlFWgBKgH"
      },
      "outputs": [],
      "source": [
        "# Imprimir la cantidad de lotes en el conjunto de validación\n",
        "print('Number of validation batches: %d' % len(ds_val))\n",
        "\n",
        "# Imprimir la cantidad de lotes en el conjunto de prueba\n",
        "print('Number of test batches: %d' % len(ds_test))\n"
      ]
    },
    {
      "cell_type": "markdown",
      "metadata": {
        "id": "MakSrdd--RKg"
      },
      "source": [
        "### Configure the dataset for performance"
      ]
    },
    {
      "cell_type": "markdown",
      "metadata": {
        "id": "22XWC7yjkZu4"
      },
      "source": [
        "Use buffered prefetching to load images from disk without having I/O become blocking. To learn more about this method see the [data performance](https://www.tensorflow.org/guide/data_performance) guide."
      ]
    },
    {
      "cell_type": "code",
      "execution_count": null,
      "metadata": {
        "execution": {
          "iopub.execute_input": "2023-10-27T06:20:34.000271Z",
          "iopub.status.busy": "2023-10-27T06:20:33.999652Z",
          "iopub.status.idle": "2023-10-27T06:20:34.006941Z",
          "shell.execute_reply": "2023-10-27T06:20:34.006292Z"
        },
        "id": "p3UUPdm86LNC"
      },
      "outputs": [],
      "source": [
        "# Crear conjuntos de datos a partir de generadores\n",
        "train_dataset = tf.data.Dataset.from_generator(\n",
        "    lambda: train_generator,\n",
        "    output_signature=(\n",
        "        tf.TensorSpec(shape=(None, image_size[0], image_size[1], 3), dtype=tf.float32),\n",
        "        tf.TensorSpec(shape=(None, 2), dtype=tf.float32)  # Ajusta la forma según tus necesidades\n",
        "    )\n",
        ")\n",
        "\n",
        "validation_dataset = tf.data.Dataset.from_generator(\n",
        "    lambda: validation_generator,\n",
        "    output_signature=(\n",
        "        tf.TensorSpec(shape=(None, image_size[0], image_size[1], 3), dtype=tf.float32),\n",
        "        tf.TensorSpec(shape=(None, 2), dtype=tf.float32)  # Ajusta la forma según tus necesidades\n",
        "    )\n",
        ")\n",
        "\n",
        "# Ajustar la forma de las etiquetas en los conjuntos de datos\n",
        "train_dataset = train_dataset.map(lambda img, label: (img, label[:, 0]), num_parallel_calls=tf.data.AUTOTUNE)\n",
        "validation_dataset = validation_dataset.map(lambda img, label: (img, label[:, 0]), num_parallel_calls=tf.data.AUTOTUNE)\n",
        "\n",
        "# Configurar prefetching para los conjuntos de datos\n",
        "AUTOTUNE = tf.data.AUTOTUNE\n",
        "train_dataset = train_dataset.prefetch(buffer_size=AUTOTUNE)\n",
        "validation_dataset = validation_dataset.prefetch(buffer_size=AUTOTUNE)\n",
        "\n"
      ]
    },
    {
      "cell_type": "code",
      "execution_count": null,
      "metadata": {
        "id": "IjYyZ11Mhf8W"
      },
      "outputs": [],
      "source": [
        "# Calcular el número total de muestras en los conjuntos de entrenamiento, prueba y validación\n",
        "num_train = len(ds_train) * batch_size\n",
        "num_val = len(ds_val) * batch_size\n",
        "num_test = len(ds_test) * batch_size\n",
        "\n",
        "# Crear un gráfico de barras para visualizar la distribución de las muestras\n",
        "fig, ax = plt.subplots()\n",
        "\n",
        "datasets_cardinality = ['train', 'test', 'validation']\n",
        "counts = [num_train, num_test, num_val]\n",
        "\n",
        "ax.bar(datasets_cardinality, counts)\n",
        "ax.legend(title='Number of Samples')\n",
        "plt.show()\n"
      ]
    },
    {
      "cell_type": "markdown",
      "metadata": {
        "id": "MYfcVwYLiR98"
      },
      "source": [
        "### Use data augmentation"
      ]
    },
    {
      "cell_type": "markdown",
      "metadata": {
        "id": "bDWc5Oad1daX"
      },
      "source": [
        "When you don't have a large image dataset, it's a good practice to artificially introduce sample diversity by applying random, yet realistic, transformations to the training images, such as rotation and horizontal flipping. This helps expose the model to different aspects of the training data and reduce [overfitting](https://www.tensorflow.org/tutorials/keras/overfit_and_underfit). You can learn more about data augmentation in this [tutorial](https://www.tensorflow.org/tutorials/images/data_augmentation)."
      ]
    },
    {
      "cell_type": "code",
      "execution_count": null,
      "metadata": {
        "execution": {
          "iopub.execute_input": "2023-10-27T06:20:34.010601Z",
          "iopub.status.busy": "2023-10-27T06:20:34.010213Z",
          "iopub.status.idle": "2023-10-27T06:20:34.023610Z",
          "shell.execute_reply": "2023-10-27T06:20:34.022958Z"
        },
        "id": "3P99QiMGit1A"
      },
      "outputs": [],
      "source": [
        "#data_augmentation = tf.keras.Sequential([\n",
        "#  tf.keras.layers.RandomFlip('horizontal'),\n",
        "#  tf.keras.layers.RandomRotation(0.2),\n",
        "#])"
      ]
    },
    {
      "cell_type": "markdown",
      "metadata": {
        "id": "s9SlcbhrarOO"
      },
      "source": [
        "Note: These layers are active only during training, when you call `Model.fit`. They are inactive when the model is used in inference mode in `Model.evaluate`, `Model.predict`, or `Model.call`."
      ]
    },
    {
      "cell_type": "markdown",
      "metadata": {
        "id": "9mD3rE2Lm7-d"
      },
      "source": [
        "Let's repeatedly apply these layers to the same image and see the result."
      ]
    },
    {
      "cell_type": "code",
      "execution_count": null,
      "metadata": {
        "execution": {
          "iopub.execute_input": "2023-10-27T06:20:34.027251Z",
          "iopub.status.busy": "2023-10-27T06:20:34.026741Z",
          "iopub.status.idle": "2023-10-27T06:20:35.247797Z",
          "shell.execute_reply": "2023-10-27T06:20:35.247070Z"
        },
        "id": "aQullOUHkm67"
      },
      "outputs": [],
      "source": [
        "# Crear una secuencia de aumento de datos\n",
        "data_augmentation = tf.keras.Sequential([\n",
        "  tf.keras.layers.RandomFlip('horizontal'),\n",
        "  tf.keras.layers.RandomRotation(0.2)\n",
        "])\n",
        "\n",
        "# Obtener un lote de imágenes del conjunto de entrenamiento\n",
        "for images, _ in train_dataset.take(1):\n",
        "    plt.figure(figsize=(10, 10))\n",
        "    \n",
        "    # Seleccionar la primera imagen del lote\n",
        "    first_image = images[0]\n",
        "    \n",
        "    # Aplicar aumento de datos y visualizar las imágenes aumentadas\n",
        "    for i in range(9):\n",
        "        ax = plt.subplot(3, 3, i + 1)\n",
        "        augmented_image = data_augmentation(tf.expand_dims(first_image, 0))\n",
        "        plt.imshow(augmented_image[0].numpy())\n",
        "        plt.axis('off')\n",
        "\n",
        "# Mostrar la figura\n",
        "plt.show()\n"
      ]
    },
    {
      "cell_type": "code",
      "execution_count": null,
      "metadata": {
        "id": "DcBl_qVyhf8X"
      },
      "outputs": [],
      "source": [
        "pre_process_data = True  # Cambiar a True si deseas aplicar el aumento de datos\n",
        "\n",
        "if pre_process_data:\n",
        "    # Aplicar la secuencia de aumento de datos al conjunto de entrenamiento\n",
        "    train_dataset = train_dataset.map(\n",
        "        lambda img, label: (data_augmentation(img), label),\n",
        "        num_parallel_calls=tf.data.AUTOTUNE\n",
        "    )\n"
      ]
    },
    {
      "cell_type": "markdown",
      "metadata": {
        "id": "hCUJqkMAhf8Y"
      },
      "source": [
        "# Small CNN\n",
        "\n",
        "Ahora volvemos al español y creamos una red convolucional \"from scratch\""
      ]
    },
    {
      "cell_type": "code",
      "execution_count": null,
      "metadata": {
        "id": "LSNrBQyjhf8Y"
      },
      "outputs": [],
      "source": [
        "# Importar módulos necesarios\n",
        "from tensorflow.keras import datasets, layers, models\n",
        "\n",
        "IMG_SIZE = (100, 100)\n",
        "\n",
        "# Crear un modelo secuencial\n",
        "baseline_model = models.Sequential()\n",
        "\n",
        "# Normalizar los valores de píxeles de las imágenes en el rango [0, 1]\n",
        "baseline_model.add(layers.Rescaling(1.0 / 255))\n",
        "\n",
        "# Primera capa convolucional con 32 filtros de 3x3, activación ReLU y entrada de imágenes\n",
        "baseline_model.add(layers.Conv2D(32, (3, 3), activation='relu', input_shape=(IMG_SIZE[0], IMG_SIZE[1], 3)))\n",
        "\n",
        "# Capa de reducción de muestreo (MaxPooling) para reducir el tamaño espacial\n",
        "baseline_model.add(layers.MaxPooling2D((2, 2)))\n",
        "\n",
        "# Segunda capa convolucional con 64 filtros de 3x3 y activación ReLU\n",
        "#baseline_model.add(layers.Conv2D(64, (3, 3), activation='relu'))\n",
        "\n",
        "# Otra capa de reducción de muestreo para seguir reduciendo el tamaño espacial\n",
        "baseline_model.add(layers.MaxPooling2D((2, 2)))\n",
        "\n",
        "# Tercera capa convolucional con 64 filtros de 3x3 y activación ReLU\n",
        "#baseline_model.add(layers.Conv2D(64, (3, 3), activation='relu'))\n",
        "\n",
        "# Aplanar la salida para prepararla para capas densas (totalmente conectadas)\n",
        "baseline_model.add(layers.Flatten())\n",
        "\n",
        "# Capa densa (totalmente conectada) con 64 unidades y activación ReLU\n",
        "#baseline_model.add(layers.Dense(64, activation='relu'))\n",
        "\n",
        "# Capa de salida con 1 unidad (para clasificación binaria) y sin activación\n",
        "baseline_model.add(layers.Dense(1, activation=None))\n"
      ]
    },
    {
      "cell_type": "code",
      "execution_count": null,
      "metadata": {
        "id": "SRoKLZJHhf8Y"
      },
      "outputs": [],
      "source": [
        "from tensorflow.keras.activations import sigmoid\n",
        "\n",
        "predictions = baseline_model(images)\n"
      ]
    },
    {
      "cell_type": "code",
      "execution_count": null,
      "metadata": {},
      "outputs": [],
      "source": [
        "plt.imshow((images[3].numpy() * 255).astype(\"uint8\"))\n",
        "\n",
        "\n"
      ]
    },
    {
      "cell_type": "code",
      "execution_count": null,
      "metadata": {
        "id": "2Pe33vdOhf8Y"
      },
      "outputs": [],
      "source": [
        "# Calcular la puntuación (score) usando la función sigmoid\n",
        "score = float(sigmoid(predictions[3][0]))\n",
        "\n",
        "# Obtener la imagen del conjunto de datos y convertirla a un array NumPy\n",
        "image_to_show = (images[3].numpy() * 255).astype(\"uint8\")\n",
        "\n",
        "# Mostrar la imagen\n",
        "plt.imshow(image_to_show)\n",
        "\n",
        "# Establecer la etiqueta de predicción basada en el umbral de 0.5\n",
        "pred_label = score > 0.5\n",
        "\n",
        "# Establecer el título del gráfico con la etiqueta de predicción\n",
        "plt.title(class_names[pred_label])\n",
        "\n",
        "# Desactivar los ejes para una presentación más limpia\n",
        "plt.axis('off')\n",
        "\n",
        "# Mostrar el gráfico\n",
        "plt.show()\n"
      ]
    },
    {
      "cell_type": "code",
      "execution_count": null,
      "metadata": {
        "id": "tMgQT59Whf8Y"
      },
      "outputs": [],
      "source": [
        "baseline_model.summary()"
      ]
    },
    {
      "cell_type": "code",
      "execution_count": null,
      "metadata": {},
      "outputs": [],
      "source": [
        "print(tf.config.list_physical_devices('GPU'))\n"
      ]
    },
    {
      "cell_type": "code",
      "execution_count": null,
      "metadata": {},
      "outputs": [],
      "source": [
        "reduced_train_dataset = train_dataset.take(2)  # Tomar solo los primeros 100 ejemplos\n",
        "reduced_val_dataset = validation_dataset.take(1)  # Tomar solo los primeros 20 ejemplos\n"
      ]
    },
    {
      "cell_type": "code",
      "execution_count": null,
      "metadata": {
        "id": "hbG_NmD_hf8Y"
      },
      "outputs": [],
      "source": [
        "# Compilar el modelo\n",
        "baseline_model.compile(optimizer='sgd',\n",
        "                       loss=tf.keras.losses.BinaryCrossentropy(from_logits=True),\n",
        "                       metrics=['accuracy'])\n",
        "\n",
        "# Número de épocas para entrenar el modelo\n",
        "num_epochs = 1\n",
        "\n",
        "# Entrenar el modelo usando el conjunto de entrenamiento y validar en el conjunto de prueba\n",
        "history = baseline_model.fit(train_dataset, epochs=num_epochs, validation_data=validation_dataset)\n"
      ]
    },
    {
      "attachments": {},
      "cell_type": "markdown",
      "metadata": {},
      "source": [
        "HASTA AQUI FUNCIONA DE PANA Y SE QUEDA ENTRENANDO EL MODEDLO INFINITAMENTE, DICE QUE CON GRAFICA EN VOLA SE PUEDE ACELERAR."
      ]
    },
    {
      "cell_type": "code",
      "execution_count": null,
      "metadata": {
        "id": "dk0We5fIhf8Z"
      },
      "outputs": [],
      "source": [
        "fig, (ax1, ax2) = plt.subplots(2, 1)\n",
        "epochs=range(num_epochs)\n",
        "fig.suptitle('Accuracy / Loss')\n",
        "#fig.subplots_adjust(hspace=10)\n",
        "ax1.plot(epochs,history.history['accuracy'], label='accuracy')\n",
        "ax1.plot(epochs,history.history['val_accuracy'], label = 'val_accuracy')\n",
        "ax1.set_ylabel('Accuracy')\n",
        "ax2.plot(epochs,history.history['loss'], label='loss')\n",
        "ax2.plot(epochs,history.history['val_loss'], label = 'val_loss')\n",
        "ax2.set_ylabel('Loss')\n",
        "ax2.set_xlabel('Epochs')\n",
        "\n"
      ]
    },
    {
      "cell_type": "code",
      "execution_count": null,
      "metadata": {
        "id": "OQVfnxUphf8Z"
      },
      "outputs": [],
      "source": [
        "test_loss, test_acc = baseline_model.evaluate(validation_dataset, verbose=0)\n"
      ]
    },
    {
      "cell_type": "code",
      "execution_count": null,
      "metadata": {
        "id": "fqpwS1u94cev"
      },
      "outputs": [],
      "source": [
        "print('Train Loss :  {:0.4f}, Train Accuracy  : {:0.4f} '.format(history.history['loss'][-1], history.history['accuracy'][-1]))\n",
        "print('Val Loss   :  {:0.4f}, Val Accuracy    : {:0.4f} '.format(history.history['val_loss'][-1], history.history['val_accuracy'][-1]))\n",
        "print('Test Loss  :  {:0.4f}, Test Accuracy   : {:0.4f} '.format(test_loss, test_acc))\n"
      ]
    },
    {
      "cell_type": "code",
      "execution_count": null,
      "metadata": {
        "id": "RoK8iGvYqJwV"
      },
      "outputs": [],
      "source": [
        "predictions=baseline_model.predict(images)\n"
      ]
    },
    {
      "cell_type": "code",
      "execution_count": null,
      "metadata": {
        "id": "cNyU2j_oqdyz"
      },
      "outputs": [],
      "source": [
        "plt.imshow(images[2] / 255)\n",
        "pred_label=int((predictions[2]>0.5))\n",
        "plt.title(class_names[pred_label])\n",
        "plt.axis('off')"
      ]
    },
    {
      "cell_type": "markdown",
      "metadata": {
        "id": "3ff4G7JQmZyK"
      },
      "source": [
        "# Transfer Learning\n",
        "\n",
        "Descargamos modelos pre-entrenados desde:\n",
        "\n",
        "https://keras.io/api/applications/"
      ]
    },
    {
      "cell_type": "code",
      "execution_count": null,
      "metadata": {
        "execution": {
          "iopub.execute_input": "2023-10-27T06:20:35.278056Z",
          "iopub.status.busy": "2023-10-27T06:20:35.277829Z",
          "iopub.status.idle": "2023-10-27T06:20:36.798140Z",
          "shell.execute_reply": "2023-10-27T06:20:36.797451Z"
        },
        "id": "19IQ2gqneqmS"
      },
      "outputs": [],
      "source": [
        "# Create the base model from the pre-trained model MobileNet V2\n",
        "from tensorflow.keras.applications import EfficientNetB0\n",
        "\n",
        "base_model = EfficientNetB0(include_top=False, weights='imagenet',input_shape=(160,160,3))"
      ]
    },
    {
      "cell_type": "code",
      "execution_count": null,
      "metadata": {
        "id": "mgrCRinIp0lW"
      },
      "outputs": [],
      "source": [
        "predictions=base_model.predict(images)\n",
        "plt.imshow(images[2] / 255)\n",
        "plt.axis('off')"
      ]
    },
    {
      "cell_type": "code",
      "execution_count": null,
      "metadata": {
        "id": "4jVPZWQxrlLQ"
      },
      "outputs": [],
      "source": [
        "predictions.shape"
      ]
    },
    {
      "cell_type": "code",
      "execution_count": null,
      "metadata": {
        "id": "sMskzpzcsWrL"
      },
      "outputs": [],
      "source": [
        "base_model.summary()"
      ]
    },
    {
      "cell_type": "markdown",
      "metadata": {
        "id": "AqcsxoJIEVXZ"
      },
      "source": [
        "This feature extractor converts each `160x160x3` image into a `5x5x1280` block of features. Let's see what it does to an example batch of images:"
      ]
    },
    {
      "cell_type": "markdown",
      "metadata": {
        "id": "rlx56nQtfe8Y"
      },
      "source": [
        "## Feature extraction\n",
        "In this step, you will freeze the convolutional base created from the previous step and to use as a feature extractor. Additionally, you add a classifier on top of it and train the top-level classifier."
      ]
    },
    {
      "cell_type": "markdown",
      "metadata": {
        "id": "CnMLieHBCwil"
      },
      "source": [
        "### Freeze the convolutional base"
      ]
    },
    {
      "cell_type": "markdown",
      "metadata": {
        "id": "7fL6upiN3ekS"
      },
      "source": [
        "It is important to freeze the convolutional base before you compile and train the model. Freezing (by setting layer.trainable = False) prevents the weights in a given layer from being updated during training. MobileNet V2 has many layers, so setting the entire model's `trainable` flag to False will freeze all of them."
      ]
    },
    {
      "cell_type": "code",
      "execution_count": null,
      "metadata": {
        "execution": {
          "iopub.execute_input": "2023-10-27T06:20:37.387753Z",
          "iopub.status.busy": "2023-10-27T06:20:37.387253Z",
          "iopub.status.idle": "2023-10-27T06:20:37.393853Z",
          "shell.execute_reply": "2023-10-27T06:20:37.393262Z"
        },
        "id": "OTCJH4bphOeo"
      },
      "outputs": [],
      "source": [
        "base_model.trainable = False"
      ]
    },
    {
      "cell_type": "markdown",
      "metadata": {
        "id": "jsNHwpm7BeVM"
      },
      "source": [
        "### Important note about BatchNormalization layers\n",
        "\n",
        "Many models contain `tf.keras.layers.BatchNormalization` layers. This layer is a special case and precautions should be taken in the context of fine-tuning, as shown later in this tutorial.\n",
        "\n",
        "When you set `layer.trainable = False`, the `BatchNormalization` layer will run in inference mode, and will not update its mean and variance statistics.\n",
        "\n",
        "When you unfreeze a model that contains BatchNormalization layers in order to do fine-tuning, you should keep the BatchNormalization layers in inference mode by passing `training = False` when calling the base model. Otherwise, the updates applied to the non-trainable weights will destroy what the model has learned.\n",
        "\n",
        "For more details, see the [Transfer learning guide](https://www.tensorflow.org/guide/keras/transfer_learning)."
      ]
    },
    {
      "cell_type": "code",
      "execution_count": null,
      "metadata": {
        "execution": {
          "iopub.execute_input": "2023-10-27T06:20:37.397099Z",
          "iopub.status.busy": "2023-10-27T06:20:37.396675Z",
          "iopub.status.idle": "2023-10-27T06:20:37.619320Z",
          "shell.execute_reply": "2023-10-27T06:20:37.618646Z"
        },
        "id": "KpbzSmPkDa-N"
      },
      "outputs": [],
      "source": [
        "# Let's take a look at the base model architecture\n",
        "base_model.summary()"
      ]
    },
    {
      "cell_type": "markdown",
      "metadata": {
        "id": "wdMRM8YModbk"
      },
      "source": [
        "### Add a classification head"
      ]
    },
    {
      "cell_type": "markdown",
      "metadata": {
        "id": "QBc31c4tMOdH"
      },
      "source": [
        "To generate predictions from the block of features, average over the spatial `5x5` spatial locations, using a `tf.keras.layers.GlobalAveragePooling2D` layer to convert the features to  a single 1280-element vector per image."
      ]
    },
    {
      "cell_type": "code",
      "execution_count": null,
      "metadata": {
        "execution": {
          "iopub.execute_input": "2023-10-27T06:20:37.758152Z",
          "iopub.status.busy": "2023-10-27T06:20:37.757894Z",
          "iopub.status.idle": "2023-10-27T06:20:37.769652Z",
          "shell.execute_reply": "2023-10-27T06:20:37.768929Z"
        },
        "id": "dLnpMF5KOALm"
      },
      "outputs": [],
      "source": [
        "def build_model(base_model,num_classes):\n",
        "    inputs = layers.Input(shape=(160, 160, 3))\n",
        "    x = base_model(inputs)\n",
        "    x = layers.GlobalAveragePooling2D(name=\"avg_pool\")(x)\n",
        "    x = layers.BatchNormalization()(x)\n",
        "    top_dropout_rate = 0.2\n",
        "    x = layers.Dropout(top_dropout_rate, name=\"top_dropout\")(x)\n",
        "    outputs = layers.Dense(num_classes, activation=None, name=\"pred\")(x)\n",
        "    model = tf.keras.Model(inputs, outputs, name=\"EfficientNet\")\n",
        "    return model"
      ]
    },
    {
      "cell_type": "markdown",
      "metadata": {
        "id": "O1p0OJBR6dOT"
      },
      "source": [
        "Apply a `tf.keras.layers.Dense` layer to convert these features into a single prediction per image. You don't need an activation function here because this prediction will be treated as a `logit`, or a raw prediction value. Positive numbers predict class 1, negative numbers predict class 0."
      ]
    },
    {
      "cell_type": "code",
      "execution_count": null,
      "metadata": {
        "execution": {
          "iopub.execute_input": "2023-10-27T06:20:37.773440Z",
          "iopub.status.busy": "2023-10-27T06:20:37.772868Z",
          "iopub.status.idle": "2023-10-27T06:20:37.793495Z",
          "shell.execute_reply": "2023-10-27T06:20:37.792755Z"
        },
        "id": "Wv4afXKj6cVa"
      },
      "outputs": [],
      "source": [
        "fine_tune_model=build_model(base_model,1)"
      ]
    },
    {
      "cell_type": "code",
      "execution_count": null,
      "metadata": {
        "id": "djn9EOACuFw_"
      },
      "outputs": [],
      "source": [
        "predictions=fine_tune_model(images)"
      ]
    },
    {
      "cell_type": "code",
      "execution_count": null,
      "metadata": {
        "id": "ahnEToM_-2CI"
      },
      "outputs": [],
      "source": [
        "predictions.shape"
      ]
    },
    {
      "cell_type": "markdown",
      "metadata": {
        "id": "HXvz-ZkTa9b3"
      },
      "source": [
        "Build a model by chaining together the data augmentation, rescaling, `base_model` and feature extractor layers using the [Keras Functional API](https://www.tensorflow.org/guide/keras/functional). As previously mentioned, use `training=False` as our model contains a `BatchNormalization` layer."
      ]
    },
    {
      "cell_type": "code",
      "execution_count": null,
      "metadata": {
        "execution": {
          "iopub.execute_input": "2023-10-27T06:20:38.379745Z",
          "iopub.status.busy": "2023-10-27T06:20:38.379061Z",
          "iopub.status.idle": "2023-10-27T06:20:38.404167Z",
          "shell.execute_reply": "2023-10-27T06:20:38.403576Z"
        },
        "id": "I8ARiyMFsgbH"
      },
      "outputs": [],
      "source": [
        "fine_tune_model.summary()"
      ]
    },
    {
      "cell_type": "markdown",
      "metadata": {
        "id": "g0ylJXE_kRLi"
      },
      "source": [
        "### Compile the model\n",
        "\n",
        "Compile the model before training it. Since there are two classes, use the `tf.keras.losses.BinaryCrossentropy` loss with `from_logits=True` since the model provides a linear output."
      ]
    },
    {
      "cell_type": "code",
      "execution_count": null,
      "metadata": {
        "execution": {
          "iopub.execute_input": "2023-10-27T06:20:38.580610Z",
          "iopub.status.busy": "2023-10-27T06:20:38.580330Z",
          "iopub.status.idle": "2023-10-27T06:20:38.607244Z",
          "shell.execute_reply": "2023-10-27T06:20:38.606638Z"
        },
        "id": "RpR8HdyMhukJ"
      },
      "outputs": [],
      "source": [
        "fine_tune_model.compile(optimizer='sgd',\n",
        "              loss=tf.keras.losses.BinaryCrossentropy(from_logits=True),\n",
        "              metrics=['accuracy'])\n",
        "\n",
        "history = fine_tune_model.fit(train_dataset, epochs=30, validation_data=test_dataset)"
      ]
    },
    {
      "cell_type": "markdown",
      "metadata": {
        "id": "RxvgOYTDSWTx"
      },
      "source": [
        "### Train the model\n",
        "\n",
        "After training for 10 epochs, you should see ~96% accuracy on the validation set.\n"
      ]
    },
    {
      "cell_type": "code",
      "execution_count": null,
      "metadata": {
        "execution": {
          "iopub.execute_input": "2023-10-27T06:20:38.610678Z",
          "iopub.status.busy": "2023-10-27T06:20:38.610443Z",
          "iopub.status.idle": "2023-10-27T06:20:42.094952Z",
          "shell.execute_reply": "2023-10-27T06:20:42.094222Z"
        },
        "id": "Om4O3EESkab1"
      },
      "outputs": [],
      "source": [
        "\n",
        "loss0, accuracy0 = fine_tune_model.evaluate(validation_dataset)"
      ]
    },
    {
      "cell_type": "code",
      "execution_count": null,
      "metadata": {
        "execution": {
          "iopub.execute_input": "2023-10-27T06:20:42.099037Z",
          "iopub.status.busy": "2023-10-27T06:20:42.098549Z",
          "iopub.status.idle": "2023-10-27T06:20:42.102824Z",
          "shell.execute_reply": "2023-10-27T06:20:42.102234Z"
        },
        "id": "8cYT1c48CuSd"
      },
      "outputs": [],
      "source": [
        "print(\"initial loss: {:.2f}\".format(loss0))\n",
        "print(\"initial accuracy: {:.2f}\".format(accuracy0))"
      ]
    },
    {
      "cell_type": "code",
      "execution_count": null,
      "metadata": {
        "execution": {
          "iopub.execute_input": "2023-10-27T06:20:42.106208Z",
          "iopub.status.busy": "2023-10-27T06:20:42.105753Z",
          "iopub.status.idle": "2023-10-27T06:21:08.677891Z",
          "shell.execute_reply": "2023-10-27T06:21:08.676872Z"
        },
        "id": "JsaRFlZ9B6WK"
      },
      "outputs": [],
      "source": [
        "fig, (ax1, ax2) = plt.subplots(2, 1)\n",
        "fig.suptitle('Accuracy / Loss')\n",
        "ax1.plot(history.history['accuracy'], label='accuracy')\n",
        "ax1.plot(history.history['val_accuracy'], label = 'val_accuracy')\n",
        "ax1.set_ylabel('Accuracy')\n",
        "ax2.plot(history.history['loss'], label='loss')\n",
        "ax2.plot(history.history['val_loss'], label = 'val_loss')\n",
        "ax2.set_ylabel('Loss')\n",
        "ax2.set_xlabel('Epochs')\n"
      ]
    },
    {
      "cell_type": "markdown",
      "metadata": {
        "id": "_TZTwG7nhm0C"
      },
      "source": [
        "## Summary\n",
        "\n",
        "* **Using a pre-trained model for feature extraction**:  When working with a small dataset, it is a common practice to take advantage of features learned by a model trained on a larger dataset in the same domain. This is done by instantiating the pre-trained model and adding a fully-connected classifier on top. The pre-trained model is \"frozen\" and only the weights of the classifier get updated during training.\n",
        "In this case, the convolutional base extracted all the features associated with each image and you just trained a classifier that determines the image class given that set of extracted features.\n",
        "\n",
        "* **Fine-tuning a pre-trained model**: To further improve performance, one might want to repurpose the top-level layers of the pre-trained models to the new dataset via fine-tuning.\n",
        "In this case, you tuned your weights such that your model learned high-level features specific to the dataset. This technique is usually recommended when the training dataset is large and very similar to the original dataset that the pre-trained model was trained on.\n",
        "\n",
        "To learn more, visit the [Transfer learning guide](https://www.tensorflow.org/guide/keras/transfer_learning).\n"
      ]
    },
    {
      "cell_type": "code",
      "execution_count": null,
      "metadata": {
        "id": "uKIByL01da8c"
      },
      "outputs": [],
      "source": []
    }
  ],
  "metadata": {
    "accelerator": "GPU",
    "colab": {
      "include_colab_link": true,
      "private_outputs": true,
      "provenance": [],
      "toc_visible": true
    },
    "kernelspec": {
      "display_name": "Python 3",
      "language": "python",
      "name": "python3"
    },
    "language_info": {
      "codemirror_mode": {
        "name": "ipython",
        "version": 3
      },
      "file_extension": ".py",
      "mimetype": "text/x-python",
      "name": "python",
      "nbconvert_exporter": "python",
      "pygments_lexer": "ipython3",
      "version": "3.10.2 (tags/v3.10.2:a58ebcc, Jan 17 2022, 14:12:15) [MSC v.1929 64 bit (AMD64)]"
    },
    "vscode": {
      "interpreter": {
        "hash": "107d7b120a5b68773a87d4067e673630b35702e55ebab3138143d08b1c4d7cbc"
      }
    }
  },
  "nbformat": 4,
  "nbformat_minor": 0
}
